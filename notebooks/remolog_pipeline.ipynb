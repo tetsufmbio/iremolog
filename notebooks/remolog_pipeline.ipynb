{
  "cells": [
    {
      "cell_type": "markdown",
      "metadata": {
        "id": "view-in-github",
        "colab_type": "text"
      },
      "source": [
        "<a href=\"https://colab.research.google.com/github/tetsufmbio/remolog/blob/main/notebooks/remolog_pipeline.ipynb\" target=\"_parent\"><img src=\"https://colab.research.google.com/assets/colab-badge.svg\" alt=\"Open In Colab\"/></a>"
      ]
    },
    {
      "cell_type": "markdown",
      "metadata": {
        "id": "gfPY8FxdDdKj"
      },
      "source": [
        "# Remolog: identifying remote homologs using structural alignment data\n",
        "\n",
        "## Quick start\n",
        "\n",
        "1. Press \"Runtime\" --> \"Run all\".\n",
        "2. In the next cell (*Upload protein structure*), it will appear the bottom \"Choose file\". Click on it and choose one or more pdb file to be uploaded and analyzed by the pipeline*.\n",
        "3. After the running, it will download a file named \"final_result.tab\". See its description in the end of this notebook.\n",
        "4. Running time of this pipeline in Colab take ~10 min when using foldseek for screening**.\n",
        "\n",
        "\\* If you have only the amino acid sequence, you can predict its structure using the [AlphaFold Colab notebook](https://github.com/sokrypton/ColabFold)\n",
        "\n",
        "\\** If no remote homolog was found, try to increase the parameter \"n\".\n"
      ]
    },
    {
      "cell_type": "code",
      "execution_count": null,
      "metadata": {
        "id": "GirYJKf4YS2r",
        "cellView": "form"
      },
      "outputs": [],
      "source": [
        "%cd /content\n",
        "! mkdir input\n",
        "%cd input\n",
        "\n",
        "from google.colab import files\n",
        "\n",
        "uploaded = files.upload()\n",
        "#@markdown  By running this cell, a bottom \"Choose files\" may appear. Click on it and choose the pdb file to be analyzed (you may upload multiple files).\n",
        "\n",
        "%cd /content\n"
      ]
    },
    {
      "cell_type": "markdown",
      "metadata": {
        "id": "fkwvAZAXcpxC"
      },
      "source": [
        "## Setting parameters"
      ]
    },
    {
      "cell_type": "code",
      "execution_count": 1,
      "metadata": {
        "id": "XiHnJSlobnVg"
      },
      "outputs": [],
      "source": [
        "screening = \"foldseek\" #@param [\"foldseek\",\"tmalign\", \"fatcat\"]\n",
        "#@markdown  - software to be used to retrieve structurely similar proteins in SCOPe database.\n",
        "\n",
        "n = 20 #@param {type:\"integer\"}\n",
        "#@markdown  - analyze n most similar protein structures.\n",
        "\n",
        "database = \"scope40\" #@param [\"scope40\"]\n",
        "#@markdown  - protein structure database to be used.\n",
        "\n",
        "jobName = \"final_result\" #@param {type: \"string\"}\n",
        "#@markdown  - prefix for the final output name.\n"
      ]
    },
    {
      "cell_type": "markdown",
      "metadata": {
        "id": "m6yA96AcDtdI"
      },
      "source": [
        "## Installing dependencies and downloading database"
      ]
    },
    {
      "cell_type": "code",
      "execution_count": null,
      "metadata": {
        "id": "uEUcHm7iWV90"
      },
      "outputs": [],
      "source": [
        "# setup environment variables\n",
        "import os\n",
        "os.environ['FATCAT'] = '/content/programs/FATCAT-dist'\n",
        "os.environ['PATH'] += ':/content/programs/FATCAT-dist/FATCATMain:/content/bin'\n",
        "os.environ['HEADN'] = str(n)\n",
        "os.environ['SCREEN'] = screening"
      ]
    },
    {
      "cell_type": "code",
      "execution_count": null,
      "metadata": {
        "id": "ntEDyPPUDa4R"
      },
      "outputs": [],
      "source": [
        "%cd /content/\n",
        "! if [ ! -d bin ]; then mkdir bin; fi\n",
        "! if [ ! -d programs ]; then mkdir programs; fi\n",
        "! if [ ! -d view ]; then mkdir view; fi"
      ]
    },
    {
      "cell_type": "code",
      "source": [
        "# download and install TMalign\n",
        "%cd /content/bin\n",
        "! if [ ! -e TMalign ]; then \\\n",
        "    wget \"https://zhanggroup.org/TM-align/TMalign.cpp\"; \\\n",
        "    g++ -static -O3 -ffast-math -lm -o TMalign TMalign.cpp; \\\n",
        "  fi\n"
      ],
      "metadata": {
        "id": "Qc9eYCrtFSjQ"
      },
      "execution_count": null,
      "outputs": []
    },
    {
      "cell_type": "code",
      "source": [
        "# download and install FATCAT\n",
        "%cd /content/programs\n",
        "! if [ ! -d FATCAT-dist ]; then \\\n",
        "    git clone https://github.com/GodzikLab/FATCAT-dist.git; \\\n",
        "    cd FATCAT-dist/; ./Install; \\\n",
        "  fi\n"
      ],
      "metadata": {
        "id": "O4mQ7A-WFaH_"
      },
      "execution_count": null,
      "outputs": []
    },
    {
      "cell_type": "code",
      "source": [
        "# download and install lovoalign\n",
        "%cd /content/bin\n",
        "! if [ ! -e lovoalign ]; then \\\n",
        "    wget \"https://github.com/m3g/lovoalign/archive/refs/tags/22.0.0.tar.gz\"; \\\n",
        "    tar -xzf 22.0.0.tar.gz; cd lovoalign-22.0.0/src; make; cp ../bin/lovoalign /content/bin; \\\n",
        "  fi"
      ],
      "metadata": {
        "id": "xoBZlNHGGDAk"
      },
      "execution_count": null,
      "outputs": []
    },
    {
      "cell_type": "code",
      "source": [
        "# download some scripts and model\n",
        "%cd /content/programs\n",
        "! if [ ! -d remolog ]; then \\\n",
        "    git clone https://github.com/tetsufmbio/remolog.git; \\\n",
        "  fi"
      ],
      "metadata": {
        "id": "7Zmj2NxznKMu"
      },
      "execution_count": null,
      "outputs": []
    },
    {
      "cell_type": "code",
      "source": [
        "%cd /content/programs\n",
        "! if [ ! -e /content/bin/foldseek ]; then \\\n",
        "    wget https://mmseqs.com/foldseek/foldseek-linux-sse41.tar.gz; tar xvzf foldseek-linux-sse41.tar.gz; \\\n",
        "    cp foldseek/bin/foldseek /content/bin; \\\n",
        "  fi"
      ],
      "metadata": {
        "id": "eve9UYFonKAO"
      },
      "execution_count": null,
      "outputs": []
    },
    {
      "cell_type": "code",
      "source": [
        "# download and format scope40 database\n",
        "%cd /content\n",
        "! if [ ! -d database ]; then \\\n",
        "    mkdir database; cd database; \\\n",
        "    wget https://scop.berkeley.edu/downloads/pdbstyle/pdbstyle-sel-gs-bib-40-2.08.tgz; \\\n",
        "    tar -zxf pdbstyle-sel-gs-bib-40-2.08.tgz; mv pdbstyle-2.08/*/*.ent . ; rm -rf pdbstyle*; \\\n",
        "    ls *.ent > ../list_scope.tab; for i in *.ent; do mv $i $i.pdb; done; \\\n",
        "  fi"
      ],
      "metadata": {
        "id": "S8vSfp0lrVAj"
      },
      "execution_count": null,
      "outputs": []
    },
    {
      "cell_type": "code",
      "source": [
        "# creating foldseek database\n",
        "%cd /content\n",
        "! if [ ! -d foldseek_data ]; then \\\n",
        "  mkdir foldseek_data; cd /content/foldseek_data; \\\n",
        "  foldseek createdb /content/database/ fs_data ; \\\n",
        "fi\n"
      ],
      "metadata": {
        "id": "BO5IF_sNloH8"
      },
      "execution_count": null,
      "outputs": []
    },
    {
      "cell_type": "markdown",
      "metadata": {
        "id": "eJgDipdnzlbm"
      },
      "source": [
        "## Running protein structure alignment"
      ]
    },
    {
      "cell_type": "code",
      "execution_count": null,
      "metadata": {
        "id": "1vyrF7tGDALl"
      },
      "outputs": [],
      "source": [
        "%cd /content\n",
        "! if [ -d result ]; then rm -rf result ; fi\n",
        "! mkdir result;\n",
        "! mkdir result/screening;"
      ]
    },
    {
      "cell_type": "code",
      "source": [
        "# screening for similar proteins using foldseek\n",
        "%cd /content/input\n",
        "\n",
        "! if [ $SCREEN = \"foldseek\" ]; then \\\n",
        "    for f in *; do \\\n",
        "      foldseek easy-search $f /content/foldseek_data/fs_data /content/result/screening/tmp.tab.fmt /content/tmpFolder --max-seqs $HEADN -e inf; \\\n",
        "      cut -f 1,2 /content/result/screening/tmp.tab.fmt | uniq | perl -ne '@a = split(/\\./, $_); print join(\".\", @a[0 .. $#a-2]).\"\\n\";' > /content/result/screening/$f.tab.fmt; \\\n",
        "      rm /content/result/screening/tmp.tab.fmt; \\\n",
        "    done; \\\n",
        "  fi"
      ],
      "metadata": {
        "id": "iPhN46MDT2pS"
      },
      "execution_count": null,
      "outputs": []
    },
    {
      "cell_type": "code",
      "execution_count": null,
      "metadata": {
        "id": "wnxRvC58RTJb"
      },
      "outputs": [],
      "source": [
        "# screening for similar proteins using FATCAT\n",
        "\n",
        "%cd /content/input\n",
        "! if [ $SCREEN = \"fatcat\" ]; then \\\n",
        "    for f in *; do \\\n",
        "      FATCATSearch.pl $f /content/list_scope.tab -b -i1 /content/input -i2 /content/database | \\\n",
        "      sort -k11nr | \\\n",
        "      head -n $HEADN | \\\n",
        "      perl /content/programs/remolog/scripts/format_result_FATCAT.pl - /content/programs/remolog/data/maxScore_fatcat.tab > /content/result/screening/$f.tab.fmt; \\\n",
        "    done; \\\n",
        "    cat /content/result/screening/*.fmt > /content/result/fatcat_formatted.tab; \\\n",
        "  fi"
      ]
    },
    {
      "cell_type": "code",
      "execution_count": null,
      "metadata": {
        "id": "Hk8d5Bq2-IB1"
      },
      "outputs": [],
      "source": [
        "# screening for similar proteins using tmalign\n",
        "\n",
        "%cd /content/input\n",
        "! if [ $SCREEN = \"tmalign\" ]; then \\\n",
        "  for f in *; do \\\n",
        "    if [ -f /content/result/screening/${f}.tab ]; then \\\n",
        "      rm /content/result/screening/${f}.tab; \\\n",
        "    fi; \\\n",
        "    for l in $(cat /content/list_scope.tab); \\\n",
        "      do TMalign /content/input/$f /content/database/${l}.pdb | perl /content/programs/remolog/scripts/parser_TMalign.pl - >> /content/result/screening/${f}.tab ; \\\n",
        "      done; \\\n",
        "    sort -k3nr /content/result/screening/${f}.tab | grep ${f} | head -n $HEADN > /content/result/screening/${f}.tab.fmt; \\\n",
        "    done; \\\n",
        "  cat /content/result/screening/*.fmt > /content/result/tmalign_formatted.tab; \\\n",
        "fi"
      ]
    },
    {
      "cell_type": "code",
      "execution_count": null,
      "metadata": {
        "id": "hDxEjhg9y15Q"
      },
      "outputs": [],
      "source": [
        "%cd /content/input\n",
        "! if [ $SCREEN != \"fatcat\" ]; then \\\n",
        "  if [ -f /content/result/fatcat_formatted.tab ]; then \\\n",
        "    rm /content/result/fatcat_formatted.tab; \\\n",
        "  fi; \\\n",
        "  for f in *; do \\\n",
        "    for l in $(cut -f2 /content/result/screening/$f.tab.fmt); do \\\n",
        "      FATCAT -p1 $f -p2 $l.ent.pdb -i1 /content/input -i2 /content/database -b | \\\n",
        "      perl /content/programs/remolog/scripts/format_result_FATCAT.pl - /content/programs/remolog/data/maxScore_fatcat.tab >>  /content/result/fatcat_formatted.tab ; \\\n",
        "    done; \\\n",
        "  done; \\\n",
        "  fi"
      ]
    },
    {
      "cell_type": "code",
      "execution_count": null,
      "metadata": {
        "id": "-fWiuE9EB_Pu"
      },
      "outputs": [],
      "source": [
        "%cd /content/input\n",
        "! if [ $SCREEN != \"tmalign\" ]; then \\\n",
        "    if [ -f /content/result/tmalign_formatted.tab ]; then \\\n",
        "      rm /content/result/tmalign_formatted.tab; \\\n",
        "    fi; \\\n",
        "    for f in *; do \\\n",
        "      for l in $(cut -f2 /content/result/screening/$f.tab.fmt); do \\\n",
        "        TMalign /content/input/$f /content/database/$l.ent.pdb | perl /content/programs/remolog/scripts/parser_TMalign.pl - >> /content/result/tmalign_formatted.tab ; \\\n",
        "      done; \\\n",
        "    done;\\\n",
        "  fi"
      ]
    },
    {
      "cell_type": "code",
      "execution_count": null,
      "metadata": {
        "id": "1TFB48HYB9gy"
      },
      "outputs": [],
      "source": [
        "%cd /content/input\n",
        "! if [ $SCREEN != \"lovoalign\" ]; then \\\n",
        "    if [ -f /content/result/lovoalign_formatted.tab ]; then \\\n",
        "      rm /content/result/lovoalign_formatted.tab; \\\n",
        "    fi; \\\n",
        "    for f in *; do \\\n",
        "      for l in $(cut -f2 /content/result/screening/$f.tab.fmt); do \\\n",
        "        lovoalign -p1 /content/input/$f -p2 /content/database/$l.ent.pdb | perl /content/programs/remolog/scripts/parser_lovoalign.pl - >> /content/result/lovoalign_formatted.tab; \\\n",
        "      done; \\\n",
        "    done; \\\n",
        "  fi"
      ]
    },
    {
      "cell_type": "code",
      "execution_count": null,
      "metadata": {
        "id": "aAx8eKcIJ-Jv"
      },
      "outputs": [],
      "source": [
        "%cd /content/result\n",
        "! perl /content/programs/remolog/scripts/join_table.pl /content/result/fatcat_formatted.tab /content/result/tmalign_formatted.tab | \\\n",
        "  perl /content/programs/remolog/scripts/join_table.pl - /content/result/lovoalign_formatted.tab > result.tab"
      ]
    },
    {
      "cell_type": "markdown",
      "metadata": {
        "id": "zMdWATwdz1kK"
      },
      "source": [
        "## Making prediction and writing the results"
      ]
    },
    {
      "cell_type": "code",
      "execution_count": null,
      "metadata": {
        "id": "f06_4DYKfp0Q"
      },
      "outputs": [],
      "source": [
        "from joblib import load\n",
        "from sklearn.preprocessing import StandardScaler\n",
        "from sklearn.svm import SVC\n",
        "from sklearn.pipeline import Pipeline\n",
        "import pandas as pd\n",
        "import numpy as np\n",
        "\n",
        "clf = load('/content/programs/remolog/model.joblib')"
      ]
    },
    {
      "cell_type": "code",
      "execution_count": null,
      "metadata": {
        "id": "uGGYM5AGE5k-"
      },
      "outputs": [],
      "source": [
        "header = [\"query\", \"subject\",\n",
        "          \"lovo_finalScore\", \"lovo_coverage\", \"lovo_rmsd\", \"lovo_gaps\", \"lovo_finalScoreNorm\",\n",
        "          \"tm_AliLen\", \"tm_RMSD\", \"tm_n_ident/n_aln\", \"tm_TM-score (chain 2)\", \"tm_d0 (chain 2)\",\n",
        "          \"fatcat_subject-len\", \"fatcat_Twists\", \"fatcat_ini-len\", \"fatcat_ini-rmsd\", \"fatcat_opt-equ\", \"fatcat_opt-rmsd\", \"fatcat_chain-rmsd\", \"fatcat_Score\", \"fatcat_align-len\", \"fatcat_Gaps\", \"fatcat_rel_score\", \"fatcat_rel_align\",\n",
        "          ]\n",
        "data = pd.read_csv(\"/content/result/result.tab\", sep=\"\\t\", header=None)\n",
        "data.columns = header\n",
        "\n",
        "annot = pd.read_csv(\"/content/programs/remolog/data/dir.cla.scope.2.08-stable_filtered.txt\", header=None, sep=\"\\t\")\n",
        "annot[['cl','cf','sf','fa','dm','sp','px']] = annot[5].str.split(',',expand=True)\n",
        "annot_cl = annot.loc[:,[0,\"cl\"]].drop_duplicates()\n",
        "annot_cl2 = np.array(annot_cl[\"cl\"]).reshape(-1,1)\n",
        "header_cl = list(annot.loc[:,[\"cl\"]].drop_duplicates()[\"cl\"])\n"
      ]
    },
    {
      "cell_type": "code",
      "source": [
        "from sklearn import preprocessing\n",
        "\n",
        "enc = preprocessing.OneHotEncoder(categories='auto')\n",
        "enc.fit(annot_cl2)\n",
        "oheCl = pd.DataFrame(enc.transform(annot_cl2).toarray(), columns=header_cl)\n",
        "data_cl = pd.concat([annot_cl[0], oheCl], axis=1)\n",
        "data2 = pd.merge(right=data_cl, how=\"inner\", left=data, right_on=0, left_on=\"subject\")\n",
        "data2"
      ],
      "metadata": {
        "id": "M1W0aXikrZKo"
      },
      "execution_count": null,
      "outputs": []
    },
    {
      "cell_type": "code",
      "source": [
        "X = data2.iloc[:,2:]\n",
        "X.drop(X.columns[[22]], axis=1, inplace=True)\n",
        "pred = clf.predict(X)\n",
        "data[\"pred\"] = pred"
      ],
      "metadata": {
        "id": "5799DFZEq7lP"
      },
      "execution_count": null,
      "outputs": []
    },
    {
      "cell_type": "code",
      "execution_count": null,
      "metadata": {
        "id": "5Qd7szsVIv1E"
      },
      "outputs": [],
      "source": [
        "annot.index = annot.loc[:, 0]\n",
        "annot = annot.loc[:,[\"cl\",\"cf\",\"sf\"]]\n",
        "data = data.join(annot, on=\"subject\")"
      ]
    },
    {
      "cell_type": "code",
      "source": [
        "data = data.sort_values(by=[\"pred\",\"fatcat_rel_score\"], ascending=False)"
      ],
      "metadata": {
        "id": "A8LmrfITXeBF"
      },
      "execution_count": null,
      "outputs": []
    },
    {
      "cell_type": "code",
      "execution_count": null,
      "metadata": {
        "id": "NMQoqTndKd49"
      },
      "outputs": [],
      "source": [
        "# write and download result file\n",
        "from google.colab import files\n",
        "\n",
        "data.to_csv(\"/content/result/\"+jobName+\".tab\", index=False)\n",
        "files.download(\"/content/result/\"+jobName+\".tab\")"
      ]
    },
    {
      "cell_type": "code",
      "execution_count": null,
      "metadata": {
        "id": "GFhbXfYjS-Fx"
      },
      "outputs": [],
      "source": [
        "# function to display table\n",
        "from google.colab import data_table\n",
        "data_table.enable_dataframe_formatter()\n",
        "\n",
        "def hyperlink(path):\n",
        "\t\n",
        "    # returns the substring of a path\n",
        "\n",
        "    pathList = path.split(\"=\")\n",
        "    f_url = pathList[len(pathList)-1]\n",
        "    path=\"https://scop.berkeley.edu/search/?ver=2.08&key=\"+f_url\n",
        "    #print(f_url)\n",
        "    \n",
        "    # convert the path into clickable link\n",
        "    return '<a target=\"_blank\" href=\"{}\">{}</a>'.format(path, f_url)\n"
      ]
    },
    {
      "cell_type": "code",
      "execution_count": null,
      "metadata": {
        "id": "lxMLR7EhTgPm"
      },
      "outputs": [],
      "source": [
        "# functions to display 3d alignment\n",
        "! pip install py3Dmol\n",
        "import py3Dmol\n",
        "import glob\n",
        "import matplotlib.pyplot as plt "
      ]
    },
    {
      "cell_type": "code",
      "execution_count": null,
      "metadata": {
        "id": "sbZxK7N9LdXl"
      },
      "outputs": [],
      "source": [
        "import ipywidgets as widgets\n",
        "query_list = data.loc[:,\"query\"].unique()\n",
        "query_picker = widgets.Dropdown(options=query_list, value=query_list[0])\n",
        "subject_list = list(range(1,n+1))\n",
        "subject_picker = widgets.Dropdown(options=subject_list, value=subject_list[0])\n",
        "\n",
        "#button = widgets.Button(description=\"Submit\")\n",
        "#output = widgets.Output()\n",
        "#display(button)\n",
        "\n",
        "def display_str():\n",
        "  selected_subject = data[data[\"query\"] == query_picker.value].iloc[subject_picker.value - 1,:]\n",
        "  os.chdir(\"/content/view\")\n",
        "  os.system(\"rm *\")\n",
        "  os.system(\"FATCAT -p1 \"+query_picker.value+\" -p2 \"+selected_subject[1]+\".ent.pdb -i1 /content/input -i2 /content/database -t\")\n",
        "\n",
        "  with open(\"/content/view/tmp.opt.twist.pdb\") as ifile:\n",
        "      system = \"\".join([x for x in ifile])\n",
        "      \n",
        "  view = py3Dmol.view(width=400, height=300)\n",
        "  view.addModelsAsFrames(system)\n",
        "\n",
        "  view.setStyle({'chain':'A'}, {'cartoon':{'color':'blue'}})\n",
        "  view.setStyle({'chain':'B'}, {'cartoon':{'color':'yellow'}})\n",
        "  view.zoomTo()\n",
        "  view.show()\n",
        "\n",
        "\n",
        "  display(pd.DataFrame(selected_subject))\n",
        "\n",
        "\n",
        "#button.on_click(on_button_clicked)\n",
        "\n"
      ]
    },
    {
      "cell_type": "markdown",
      "metadata": {
        "id": "Z4Ihx_Ufx2Xq"
      },
      "source": [
        "## Display table "
      ]
    },
    {
      "cell_type": "code",
      "execution_count": null,
      "metadata": {
        "id": "vxVZtUtBTCEO"
      },
      "outputs": [],
      "source": [
        "data2 = data.style.format({'subject': hyperlink, 'sf': hyperlink})\n",
        "data2"
      ]
    },
    {
      "cell_type": "code",
      "execution_count": null,
      "metadata": {
        "id": "YcY_YI_yQMjb"
      },
      "outputs": [],
      "source": [
        "data_table.disable_dataframe_formatter()"
      ]
    },
    {
      "cell_type": "markdown",
      "metadata": {
        "id": "oVAsbkaDye5S"
      },
      "source": [
        "Description of the columns\n",
        "- query: Query name\n",
        "- subject: Subject name\n",
        "\n",
        "Lovoalign\n",
        "- lovo_finalScore: Final score;\n",
        "- lovo_coverage: Alignment coverage;\n",
        "- lovo_rmsd: RMSD;\n",
        "- lovo_gaps: # of gaps;\n",
        "- lovo_finalScoreNorm: Normalized score;\n",
        "\n",
        "TM-align\n",
        "- tm_AliLen: Alignment length;\n",
        "- tm_RMSD: RMSD;\n",
        "- tm_n_ident/n_aln: proportion of # identical atom and aligned length;\n",
        "- tm_TM-score (chain 2): TM-score normalized by subject;\n",
        "- tm_d0 (chain 2): scale factor used to calculate TM-score; \n",
        "\n",
        "FATCAT\n",
        "- fatcat_subject-len: subject length;\n",
        "- fatcat_Twists: # of twists;\n",
        "- fatcat_ini-len: Initial alignment length;\n",
        "- fatcat_ini-rmsd: Initial RMSD;\n",
        "- fatcat_opt-equ: # of equivalent positions in the alignment;\n",
        "- fatcat_opt-rmsd: RMSD of aligned Cα atoms of the input structures with structural rearragement;\n",
        "- fatcat_chain-rmsd: RMSD of aligned Cα atoms of the input structures without structural rearragement;\n",
        "- fatcat_Score: Alignment score\n",
        "- fatcat_align-len: Alignment length \n",
        "- fatcat_Gaps: # of gaps in the alignment\n",
        "- fatcat_rel_score: proportion of the alignment score and maximum score\n",
        "- fatcat_rel_align: proportion of the # of aligned position with subject length\n",
        "\n",
        "Prediction\n",
        "- pred: prediction (0: not remote homolog; 1: remote homolog)\n",
        "\n",
        "SCOPe annotation\n",
        "- cl: subject SCOPe class\n",
        "- cf: subject SCOPe fold\n",
        "- sf: subject SCOPe superfamily"
      ]
    },
    {
      "cell_type": "markdown",
      "metadata": {
        "id": "UJDtmwtEx_i9"
      },
      "source": [
        "## Display protein structure alignment"
      ]
    },
    {
      "cell_type": "code",
      "source": [
        "print(\"Choose a query\")\n",
        "display(query_picker)\n",
        "print(\"Choose the Subject\")\n",
        "display(subject_picker)"
      ],
      "metadata": {
        "id": "n2q-oBKit-L9"
      },
      "execution_count": null,
      "outputs": []
    },
    {
      "cell_type": "code",
      "execution_count": null,
      "metadata": {
        "id": "osxsYJHtwFV9"
      },
      "outputs": [],
      "source": [
        "# Choose a query and a subject in the cell above and run this cell to display\n",
        "# the structure alignement performed by FATCAT.\n",
        "# chain in blue: Query\n",
        "# chain in yellow: Subject\n",
        "display_str()"
      ]
    },
    {
      "cell_type": "code",
      "source": [],
      "metadata": {
        "id": "mg1ebNEUQ0kT"
      },
      "execution_count": null,
      "outputs": []
    }
  ],
  "metadata": {
    "colab": {
      "provenance": [],
      "collapsed_sections": [
        "m6yA96AcDtdI",
        "eJgDipdnzlbm"
      ],
      "include_colab_link": true
    },
    "kernelspec": {
      "display_name": "Python 3",
      "name": "python3"
    },
    "language_info": {
      "name": "python"
    }
  },
  "nbformat": 4,
  "nbformat_minor": 0
}