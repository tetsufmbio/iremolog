{
  "cells": [
    {
      "cell_type": "markdown",
      "metadata": {
        "id": "view-in-github",
        "colab_type": "text"
      },
      "source": [
        "<a href=\"https://colab.research.google.com/github/tetsufmbio/iremolog/blob/main/notebooks/pipeline_remolog.ipynb\" target=\"_parent\"><img src=\"https://colab.research.google.com/assets/colab-badge.svg\" alt=\"Open In Colab\"/></a>"
      ]
    },
    {
      "cell_type": "markdown",
      "metadata": {
        "id": "gfPY8FxdDdKj"
      },
      "source": [
        "# IRemolog: identifying remote homologs using structural alignment data\n",
        "\n",
        "## Quick start\n",
        "\n",
        "1. Press \"Runtime\" --> \"Run all\".\n",
        "2. In the next cell (*Upload protein structure*), it will appear the bottom \"Choose file\". Click on it and choose one or more pdb file to be uploaded and analyzed by the pipeline*.\n",
        "3. After the running, it will download a file named \"remolog_final_result.tab\". See its description in the end of this notebook.\n",
        "4. Running time of this pipeline in Colab take ~10 min when using foldseek for screening**.\n",
        "\n",
        "\\* If you have only the amino acid sequence, you can predict its structure using the [AlphaFold Colab notebook](https://github.com/sokrypton/ColabFold)\n",
        "\n",
        "\\** If no remote homolog was found, try to increase the parameter \"n\" or change the screening method.\n"
      ]
    },
    {
      "cell_type": "code",
      "execution_count": null,
      "metadata": {
        "id": "GirYJKf4YS2r"
      },
      "outputs": [],
      "source": [
        "%cd /content\n",
        "! if [ -d input ]; then \\\n",
        "    rm -rf input; \\\n",
        "  fi\n",
        "! mkdir input\n",
        "\n",
        "\n",
        "%cd input\n",
        "\n",
        "from google.colab import files\n",
        "\n",
        "uploaded = files.upload()\n",
        "#@markdown  By running this cell, a bottom \"Choose files\" will appear. Click on it and choose the pdb file to be analyzed (you may upload multiple files).\n",
        "\n",
        "%cd /content\n"
      ]
    },
    {
      "cell_type": "markdown",
      "metadata": {
        "id": "fkwvAZAXcpxC"
      },
      "source": [
        "## Setting parameters"
      ]
    },
    {
      "cell_type": "code",
      "execution_count": null,
      "metadata": {
        "id": "XiHnJSlobnVg"
      },
      "outputs": [],
      "source": [
        "screening = \"foldseek\" #@param [\"foldseek\",\"tmalign\", \"fatcat\"]\n",
        "#@markdown  - software to be used to retrieve structurely similar proteins in SCOPe database.\n",
        "\n",
        "n = 20 #@param {type:\"integer\"}\n",
        "#@markdown  - analyze n most similar protein structures.\n",
        "\n",
        "database = \"scope40\" #@param [\"scope40\", \"scope95\"]\n",
        "#@markdown  - protein structure database to be used.\n",
        "\n",
        "jobName = \"remolog_final_result\" #@param {type: \"string\"}\n",
        "#@markdown  - prefix for the final output name.\n"
      ]
    },
    {
      "cell_type": "markdown",
      "metadata": {
        "id": "m6yA96AcDtdI"
      },
      "source": [
        "## Installing dependencies and downloading database"
      ]
    },
    {
      "cell_type": "code",
      "execution_count": null,
      "metadata": {
        "id": "uEUcHm7iWV90"
      },
      "outputs": [],
      "source": [
        "# setup environment variables\n",
        "import os\n",
        "os.environ['FATCAT'] = '/content/programs/FATCAT-dist'\n",
        "os.environ['PATH'] += ':/content/programs/FATCAT-dist/FATCATMain:/content/bin'\n",
        "os.environ['HEADN'] = str(n)\n",
        "os.environ['SCREEN'] = screening\n",
        "os.environ['DATABASE'] = database\n",
        "if (database == \"scope40\"):\n",
        "  os.environ['ANNOT'] = \"/content/programs/iremolog/data/dir.cla.scope.2.08-stable_filtered40.txt\"\n",
        "elif (database == \"scope95\"):\n",
        "  os.environ['ANNOT'] = \"/content/programs/iremolog/data/dir.cla.scope.2.08-stable_filtered95.txt\"\n"
      ]
    },
    {
      "cell_type": "code",
      "execution_count": null,
      "metadata": {
        "id": "ntEDyPPUDa4R"
      },
      "outputs": [],
      "source": [
        "%cd /content/\n",
        "! if [ ! -d bin ]; then mkdir bin; fi\n",
        "! if [ ! -d programs ]; then mkdir programs; fi\n",
        "! if [ ! -d view ]; then mkdir view; fi\n",
        "! if [ ! -d foldseek_data ]; then mkdir foldseek_data; fi"
      ]
    },
    {
      "cell_type": "code",
      "execution_count": null,
      "metadata": {
        "id": "Qc9eYCrtFSjQ"
      },
      "outputs": [],
      "source": [
        "# download and install TMalign\n",
        "%cd /content/bin\n",
        "! if [ ! -e TMalign ]; then \\\n",
        "    wget \"https://zhanggroup.org/TM-align/TMalign.cpp\"; \\\n",
        "    g++ -static -O3 -ffast-math -lm -o TMalign TMalign.cpp; \\\n",
        "  fi\n"
      ]
    },
    {
      "cell_type": "code",
      "execution_count": null,
      "metadata": {
        "id": "O4mQ7A-WFaH_"
      },
      "outputs": [],
      "source": [
        "# download and install FATCAT\n",
        "%cd /content/programs\n",
        "! if [ ! -d FATCAT-dist ]; then \\\n",
        "    git clone https://github.com/GodzikLab/FATCAT-dist.git; \\\n",
        "    cd FATCAT-dist/; ./Install; \\\n",
        "  fi\n"
      ]
    },
    {
      "cell_type": "code",
      "execution_count": null,
      "metadata": {
        "id": "xoBZlNHGGDAk"
      },
      "outputs": [],
      "source": [
        "# download and install lovoalign\n",
        "%cd /content/bin\n",
        "! if [ ! -e lovoalign ]; then \\\n",
        "    wget \"https://github.com/m3g/lovoalign/archive/refs/tags/22.0.0.tar.gz\"; \\\n",
        "    tar -xzf 22.0.0.tar.gz; cd lovoalign-22.0.0/src; make; cp ../bin/lovoalign /content/bin; \\\n",
        "  fi"
      ]
    },
    {
      "cell_type": "code",
      "execution_count": null,
      "metadata": {
        "id": "7Zmj2NxznKMu"
      },
      "outputs": [],
      "source": [
        "# download some scripts and model\n",
        "%cd /content/programs\n",
        "! if [ ! -d iremolog ]; then \\\n",
        "    git clone https://github.com/tetsufmbio/iremolog.git; \\\n",
        "  fi"
      ]
    },
    {
      "cell_type": "code",
      "execution_count": null,
      "metadata": {
        "id": "eve9UYFonKAO"
      },
      "outputs": [],
      "source": [
        "%cd /content/programs\n",
        "! if [ ! -e /content/bin/foldseek ]; then \\\n",
        "    while true; do \\\n",
        "      wget -T 15 -c https://mmseqs.com/foldseek/foldseek-linux-sse2.tar.gz && break ; \\\n",
        "    done \\\n",
        "  fi\n",
        "! tar xvzf foldseek-linux-sse2.tar.gz; cp foldseek/bin/foldseek /content/bin;"
      ]
    },
    {
      "cell_type": "code",
      "execution_count": null,
      "metadata": {
        "id": "S8vSfp0lrVAj"
      },
      "outputs": [],
      "source": [
        "# download and format scope database\n",
        "%cd /content\n",
        "! if [ ! -d database ]; then \\\n",
        "    mkdir database; \\\n",
        "  fi;\n",
        "%cd /content/database\n",
        "! if [ ! -d $DATABASE ]; then \\\n",
        "      mkdir $DATABASE; \\\n",
        "  fi;\n",
        "%cd /content/database/$database\n",
        "! if [ ! -f ../list_$DATABASE.tab ]; then \\\n",
        "    if [ $DATABASE = \"scope40\" ]; then \\\n",
        "      wget https://scop.berkeley.edu/downloads/pdbstyle/pdbstyle-sel-gs-bib-40-2.08.tgz; \\\n",
        "      tar -zxf pdbstyle-sel-gs-bib-40-2.08.tgz; mv pdbstyle-2.08/*/*.ent . ; rm -rf pdbstyle*; \\\n",
        "    elif [ $DATABASE = \"scope95\" ]; then \\\n",
        "      wget https://scop.berkeley.edu/downloads/pdbstyle/pdbstyle-sel-gs-bib-95-2.08.tgz; \\\n",
        "      tar -zxf pdbstyle-sel-gs-bib-95-2.08.tgz; mv pdbstyle-2.08/*/*.ent . ; rm -rf pdbstyle*; \\\n",
        "    fi; \\\n",
        "    ls *.ent > ../list_$DATABASE.tab; for i in *.ent; do mv $i $i.pdb; done; \\\n",
        "  fi;"
      ]
    },
    {
      "cell_type": "code",
      "execution_count": null,
      "metadata": {
        "id": "BO5IF_sNloH8"
      },
      "outputs": [],
      "source": [
        "# creating foldseek database\n",
        "%cd /content/foldseek_data/\n",
        "! if [ ! -f fs_$database ]; then \\\n",
        "  foldseek createdb /content/database/$database fs_$database ; \\\n",
        "fi"
      ]
    },
    {
      "cell_type": "markdown",
      "metadata": {
        "id": "eJgDipdnzlbm"
      },
      "source": [
        "## Running protein structure alignment"
      ]
    },
    {
      "cell_type": "code",
      "execution_count": null,
      "metadata": {
        "id": "1vyrF7tGDALl"
      },
      "outputs": [],
      "source": [
        "%cd /content\n",
        "! if [ -d result ]; then rm -rf result ; fi\n",
        "! mkdir result;\n",
        "! mkdir result/screening;"
      ]
    },
    {
      "cell_type": "code",
      "execution_count": null,
      "metadata": {
        "id": "iPhN46MDT2pS"
      },
      "outputs": [],
      "source": [
        "# screening for similar proteins using foldseek\n",
        "%cd /content/input\n",
        "\n",
        "! if [ $SCREEN = \"foldseek\" ]; then \\\n",
        "    for f in *; do \\\n",
        "      foldseek easy-search $f /content/foldseek_data/fs_$DATABASE /content/result/screening/tmp.tab.fmt /content/tmpFolder --max-seqs $HEADN -e inf; \\\n",
        "      cut -f 1,2 /content/result/screening/tmp.tab.fmt | sort | uniq | perl -ne '@a = split(/\\./, $_); print join(\".\", @a[0 .. $#a-2]).\"\\n\";' > /content/result/screening/$f.tab.fmt; \\\n",
        "      rm /content/result/screening/tmp.tab.fmt; \\\n",
        "    done; \\\n",
        "  fi"
      ]
    },
    {
      "cell_type": "code",
      "execution_count": null,
      "metadata": {
        "id": "wnxRvC58RTJb"
      },
      "outputs": [],
      "source": [
        "# screening for similar proteins using FATCAT\n",
        "\n",
        "%cd /content/input\n",
        "! if [ $SCREEN = \"fatcat\" ]; then \\\n",
        "    for f in *; do \\\n",
        "      FATCATSearch.pl $f /content/database/list_$DATABASE.tab -b -i1 /content/input -i2 /content/database/$DATABASE | \\\n",
        "      sort -k11nr | \\\n",
        "      head -n $HEADN | \\\n",
        "      perl /content/programs/remolog/scripts/format_result_FATCAT.pl - /content/programs/remolog/data/maxScore_fatcat.tab > /content/result/screening/$f.tab.fmt; \\\n",
        "    done; \\\n",
        "    cat /content/result/screening/*.fmt > /content/result/fatcat_formatted.tab; \\\n",
        "  fi"
      ]
    },
    {
      "cell_type": "code",
      "execution_count": null,
      "metadata": {
        "id": "Hk8d5Bq2-IB1"
      },
      "outputs": [],
      "source": [
        "# screening for similar proteins using tmalign\n",
        "\n",
        "%cd /content/input\n",
        "! if [ $SCREEN = \"tmalign\" ]; then \\\n",
        "  for f in *; do \\\n",
        "    if [ -f /content/result/screening/${f}.tab ]; then \\\n",
        "      rm /content/result/screening/${f}.tab; \\\n",
        "    fi; \\\n",
        "    for l in $(cat /content/database/list_$DATABASE.tab); \\\n",
        "      do TMalign /content/input/$f /content/database/$DATABASE/${l}.pdb | perl /content/programs/iremolog/scripts/parser_TMalign.pl - >> /content/result/screening/${f}.tab ; \\\n",
        "      done; \\\n",
        "    sort -k3nr /content/result/screening/${f}.tab | grep ${f} | head -n $HEADN > /content/result/screening/${f}.tab.fmt; \\\n",
        "    done; \\\n",
        "  cat /content/result/screening/*.fmt > /content/result/tmalign_formatted.tab; \\\n",
        "fi"
      ]
    },
    {
      "cell_type": "code",
      "execution_count": null,
      "metadata": {
        "id": "hDxEjhg9y15Q"
      },
      "outputs": [],
      "source": [
        "%cd /content/input\n",
        "! if [ $SCREEN != \"fatcat\" ]; then \\\n",
        "  if [ -f /content/result/fatcat_formatted.tab ]; then \\\n",
        "    rm /content/result/fatcat_formatted.tab; \\\n",
        "  fi; \\\n",
        "  for f in *; do \\\n",
        "    for l in $(cut -f2 /content/result/screening/$f.tab.fmt); do \\\n",
        "      FATCAT -p1 $f -p2 $l.ent.pdb -i1 /content/input -i2 /content/database/$DATABASE -b | \\\n",
        "      perl /content/programs/iremolog/scripts/format_result_FATCAT.pl - /content/programs/iremolog/data/maxScore_fatcat.tab >>  /content/result/fatcat_formatted.tab ; \\\n",
        "    done; \\\n",
        "  done; \\\n",
        "  fi"
      ]
    },
    {
      "cell_type": "code",
      "execution_count": null,
      "metadata": {
        "id": "-fWiuE9EB_Pu"
      },
      "outputs": [],
      "source": [
        "%cd /content/input\n",
        "! if [ $SCREEN != \"tmalign\" ]; then \\\n",
        "    if [ -f /content/result/tmalign_formatted.tab ]; then \\\n",
        "      rm /content/result/tmalign_formatted.tab; \\\n",
        "    fi; \\\n",
        "    for f in *; do \\\n",
        "      for l in $(cut -f2 /content/result/screening/$f.tab.fmt); do \\\n",
        "        TMalign /content/input/$f /content/database/$DATABASE/$l.ent.pdb | perl /content/programs/iremolog/scripts/parser_TMalign.pl - >> /content/result/tmalign_formatted.tab ; \\\n",
        "      done; \\\n",
        "    done;\\\n",
        "  fi"
      ]
    },
    {
      "cell_type": "code",
      "execution_count": null,
      "metadata": {
        "id": "1TFB48HYB9gy"
      },
      "outputs": [],
      "source": [
        "%cd /content/input\n",
        "! if [ $SCREEN != \"lovoalign\" ]; then \\\n",
        "    if [ -f /content/result/lovoalign_formatted.tab ]; then \\\n",
        "      rm /content/result/lovoalign_formatted.tab; \\\n",
        "    fi; \\\n",
        "    for f in *; do \\\n",
        "      for l in $(cut -f2 /content/result/screening/$f.tab.fmt); do \\\n",
        "        lovoalign -p1 /content/input/$f -p2 /content/database/$DATABASE/$l.ent.pdb | perl /content/programs/iremolog/scripts/parser_lovoalign.pl - >> /content/result/lovoalign_formatted.tab; \\\n",
        "      done; \\\n",
        "    done; \\\n",
        "  fi"
      ]
    },
    {
      "cell_type": "code",
      "execution_count": null,
      "metadata": {
        "id": "aAx8eKcIJ-Jv"
      },
      "outputs": [],
      "source": [
        "%cd /content/result\n",
        "! perl /content/programs/iremolog/scripts/join_table.pl /content/result/fatcat_formatted.tab /content/result/tmalign_formatted.tab | \\\n",
        "  perl /content/programs/iremolog/scripts/join_table.pl - /content/result/lovoalign_formatted.tab | \\\n",
        "  perl /content/programs/iremolog/scripts/add_scope_class.pl - $ANNOT > result.tab"
      ]
    },
    {
      "cell_type": "markdown",
      "metadata": {
        "id": "zMdWATwdz1kK"
      },
      "source": [
        "## Making prediction and writing the results"
      ]
    },
    {
      "cell_type": "code",
      "execution_count": null,
      "metadata": {
        "id": "-hKuUQt4Bg5Q"
      },
      "outputs": [],
      "source": [
        "# create model\n",
        "%cd /content/programs/iremolog/scripts\n",
        "!if [ ! -f model.joblib ]; then python3 /content/programs/iremolog/scripts/create_model.py ../data/data.csv; fi"
      ]
    },
    {
      "cell_type": "code",
      "execution_count": null,
      "metadata": {
        "id": "oE1SLYclCDEr"
      },
      "outputs": [],
      "source": [
        "# make prediction\n",
        "%cd /content/programs/iremolog/scripts\n",
        "!python3 classify.py /content/result/result.tab model.joblib"
      ]
    },
    {
      "cell_type": "code",
      "execution_count": null,
      "metadata": {
        "id": "RXrTbC8gDXew"
      },
      "outputs": [],
      "source": [
        "# summarize result\n",
        "%cd /content/programs/iremolog/scripts\n",
        "!perl add_desc.pl result.tab ../data/dir.des.scope.2.08-stable_sf.txt $ANNOT > result_summary.tab"
      ]
    },
    {
      "cell_type": "code",
      "execution_count": null,
      "metadata": {
        "id": "f06_4DYKfp0Q"
      },
      "outputs": [],
      "source": [
        "import pandas as pd\n",
        "import numpy as np"
      ]
    },
    {
      "cell_type": "code",
      "execution_count": null,
      "metadata": {
        "id": "uGGYM5AGE5k-"
      },
      "outputs": [],
      "source": [
        "data = pd.read_csv(\"/content/programs/iremolog/scripts/result_summary.tab\", sep=\"\\t\")\n"
      ]
    },
    {
      "cell_type": "code",
      "execution_count": null,
      "metadata": {
        "id": "A8LmrfITXeBF"
      },
      "outputs": [],
      "source": [
        "data = data.sort_values(by=[\"query\", \"pred_proba\"], ascending=[True, False])"
      ]
    },
    {
      "cell_type": "code",
      "execution_count": null,
      "metadata": {
        "id": "NMQoqTndKd49"
      },
      "outputs": [],
      "source": [
        "# write and download result file\n",
        "from google.colab import files\n",
        "\n",
        "data.to_csv(\"/content/result/\"+jobName+\".tab\", index=False)\n",
        "files.download(\"/content/result/\"+jobName+\".tab\")"
      ]
    },
    {
      "cell_type": "code",
      "execution_count": null,
      "metadata": {
        "id": "GFhbXfYjS-Fx"
      },
      "outputs": [],
      "source": [
        "# function to display table\n",
        "from google.colab import data_table\n",
        "data_table.enable_dataframe_formatter()\n",
        "\n",
        "def hyperlink(path):\n",
        "\t\n",
        "    # returns the substring of a path\n",
        "\n",
        "    pathList = path.split(\"=\")\n",
        "    f_url = pathList[len(pathList)-1]\n",
        "    path=\"https://scop.berkeley.edu/search/?ver=2.08&key=\"+f_url\n",
        "    #print(f_url)\n",
        "    \n",
        "    # convert the path into clickable link\n",
        "    return '<a target=\"_blank\" href=\"{}\">{}</a>'.format(path, f_url)\n"
      ]
    },
    {
      "cell_type": "code",
      "execution_count": null,
      "metadata": {
        "id": "lxMLR7EhTgPm"
      },
      "outputs": [],
      "source": [
        "# functions to display 3d alignment\n",
        "! pip install py3Dmol\n",
        "import py3Dmol\n",
        "import glob\n",
        "import matplotlib.pyplot as plt "
      ]
    },
    {
      "cell_type": "code",
      "execution_count": null,
      "metadata": {
        "id": "sbZxK7N9LdXl"
      },
      "outputs": [],
      "source": [
        "import ipywidgets as widgets\n",
        "\n",
        "def print_query(subject):\n",
        "    print(subject)\n",
        "\n",
        "def select_subject(query):\n",
        "    subject_picker.options = list(data[data[\"query\"] == query].subject)\n",
        "\n",
        "query_list = data.loc[:,\"query\"].unique()\n",
        "query_picker = widgets.Dropdown(options=query_list, value=query_list[0])\n",
        "subject_list = list(data[data[\"query\"] == query_list[0]].subject)\n",
        "subject_picker = widgets.Dropdown(options=subject_list, value=subject_list[0])\n",
        "j = widgets.interactive(print_query, subject=subject_picker)\n",
        "i = widgets.interactive(select_subject, query=query_picker)\n",
        "\n",
        "#button = widgets.Button(description=\"Submit\")\n",
        "#output = widgets.Output()\n",
        "#display(button)\n",
        "\n",
        "def display_str():\n",
        "  selected_subject = data[(data[\"subject\"] == subject_picker.value) & (data[\"query\"] == query_picker.value)]\n",
        "  os.chdir(\"/content/view\")\n",
        "  os.system(\"rm *\")\n",
        "  os.system(\"FATCAT -p1 \"+query_picker.value+\" -p2 \"+subject_picker.value+\".ent.pdb -i1 /content/input -i2 /content/database/$DATABASE -t\")\n",
        "\n",
        "  with open(\"/content/view/tmp.opt.twist.pdb\") as ifile:\n",
        "      system = \"\".join([x for x in ifile])\n",
        "      \n",
        "  view = py3Dmol.view(width=400, height=300)\n",
        "  view.addModelsAsFrames(system)\n",
        "\n",
        "  view.setStyle({'chain':'A'}, {'cartoon':{'color':'blue'}})\n",
        "  view.setStyle({'chain':'B'}, {'cartoon':{'color':'yellow'}})\n",
        "  view.zoomTo()\n",
        "  view.show()\n",
        "\n",
        "\n",
        "  display(pd.DataFrame(selected_subject))\n",
        "\n",
        "\n",
        "#button.on_click(on_button_clicked)\n",
        "\n"
      ]
    },
    {
      "cell_type": "markdown",
      "metadata": {
        "id": "Z4Ihx_Ufx2Xq"
      },
      "source": [
        "## Display table "
      ]
    },
    {
      "cell_type": "code",
      "execution_count": null,
      "metadata": {
        "id": "vxVZtUtBTCEO"
      },
      "outputs": [],
      "source": [
        "data2 = data.style.format({'subject': hyperlink, 'sf': hyperlink})\n",
        "data2"
      ]
    },
    {
      "cell_type": "code",
      "execution_count": null,
      "metadata": {
        "id": "YcY_YI_yQMjb"
      },
      "outputs": [],
      "source": [
        "data_table.disable_dataframe_formatter()"
      ]
    },
    {
      "cell_type": "markdown",
      "metadata": {
        "id": "oVAsbkaDye5S"
      },
      "source": [
        "Description of the columns\n",
        "- query: Query name\n",
        "- subject: Subject name\n",
        "\n",
        "Lovoalign\n",
        "- lovo_finalScore: Final score;\n",
        "- lovo_coverage: Alignment coverage;\n",
        "- lovo_rmsd: RMSD;\n",
        "- lovo_gaps: # of gaps;\n",
        "- lovo_relCov: proportion of the coverage and subject length\n",
        "- lovo_relGaps: propotion of gaps to coverage\n",
        "- lovo_finalScoreNorm: Normalized score;\n",
        "\n",
        "TM-align\n",
        "- tm_AliLen: Alignment length;\n",
        "- tm_RMSD: RMSD;\n",
        "- tm_n_ident/n_aln: proportion of # identical atom and aligned length;\n",
        "- tm_TM-score (chain 2): TM-score normalized by subject;\n",
        "- tm_d0 (chain 2): scale factor used to calculate TM-score; \n",
        "- tm_cov: coverage of the alignment (subject)\n",
        "\n",
        "FATCAT\n",
        "- fatcat_subject-len: subject length;\n",
        "- fatcat_Twists: # of twists;\n",
        "- fatcat_ini-len: Initial alignment length;\n",
        "- fatcat_ini-rmsd: Initial RMSD;\n",
        "- fatcat_opt-equ: # of equivalent positions in the alignment;\n",
        "- fatcat_opt-rmsd: RMSD of aligned Cα atoms of the input structures with structural rearragement;\n",
        "- fatcat_chain-rmsd: RMSD of aligned Cα atoms of the input structures without structural rearragement;\n",
        "- fatcat_Score: Alignment score\n",
        "- fatcat_align-len: Alignment length \n",
        "- fatcat_Gaps: # of gaps in the alignment\n",
        "- fatcat_rel_score: proportion of the alignment score and maximum score\n",
        "- fatcat_rel_align: proportion of the # of aligned position with subject length\n",
        "\n",
        "Prediction\n",
        "- pred: prediction (0: not remote homolog; 1: remote homolog)\n",
        "- pred_proba: prediction probability\n",
        "\n",
        "SCOPe annotation\n",
        "- cl: subject SCOPe class\n",
        "- cf: subject SCOPe fold\n",
        "- sf: subject SCOPe superfamily"
      ]
    },
    {
      "cell_type": "markdown",
      "metadata": {
        "id": "UJDtmwtEx_i9"
      },
      "source": [
        "## Display protein structure alignment"
      ]
    },
    {
      "cell_type": "code",
      "execution_count": null,
      "metadata": {
        "id": "n2q-oBKit-L9"
      },
      "outputs": [],
      "source": [
        "print(\"Choose a query\")\n",
        "display(query_picker)\n",
        "print(\"Choose the Subject\")\n",
        "display(subject_picker)"
      ]
    },
    {
      "cell_type": "code",
      "execution_count": null,
      "metadata": {
        "id": "osxsYJHtwFV9"
      },
      "outputs": [],
      "source": [
        "# Choose a query and a subject in the cell above and run this cell to display\n",
        "# the structure alignement performed by FATCAT.\n",
        "# chain in blue: Query\n",
        "# chain in yellow: Subject\n",
        "display_str()"
      ]
    },
    {
      "cell_type": "code",
      "execution_count": null,
      "metadata": {
        "id": "mg1ebNEUQ0kT"
      },
      "outputs": [],
      "source": []
    }
  ],
  "metadata": {
    "colab": {
      "provenance": [],
      "include_colab_link": true
    },
    "kernelspec": {
      "display_name": "Python 3",
      "name": "python3"
    },
    "language_info": {
      "name": "python"
    }
  },
  "nbformat": 4,
  "nbformat_minor": 0
}